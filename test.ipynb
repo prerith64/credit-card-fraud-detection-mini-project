{
 "cells": [
  {
   "cell_type": "code",
   "execution_count": 2,
   "id": "cd9b7b34",
   "metadata": {},
   "outputs": [
    {
     "name": "stdout",
     "output_type": "stream",
     "text": [
      "1/1 [==============================] - 0s 74ms/step\n",
      "[[0.9999165534973145]]\n",
      "The transaction is fraudulent.\n"
     ]
    },
    {
     "name": "stderr",
     "output_type": "stream",
     "text": [
      "C:\\Users\\preri\\anaconda3\\Lib\\site-packages\\sklearn\\base.py:464: UserWarning: X does not have valid feature names, but StandardScaler was fitted with feature names\n",
      "  warnings.warn(\n"
     ]
    }
   ],
   "source": [
    "import pandas as pd\n",
    "import numpy as np\n",
    "import tensorflow as tf\n",
    "import pickle\n",
    "\n",
    "# Load the trained model\n",
    "model = tf.keras.models.load_model('fraud_detection_model.h5')\n",
    "\n",
    "# Load the scaler\n",
    "with open('scaler.pkl', 'rb') as file:\n",
    "    scaler = pickle.load(file)\n",
    "\n",
    "# Define a function to process the uploaded CSV file\n",
    "def process_uploaded_file(file_path):\n",
    "    try:\n",
    "        # Read the CSV file\n",
    "        \n",
    "        data = pd.read_csv(file_path)\n",
    "        data.head()\n",
    "        # Check if the data is empty\n",
    "        if data.empty:\n",
    "            return \"Error: Empty file uploaded\"\n",
    "\n",
    "        # Scale the input data\n",
    "        scaled_input = scaler.transform(data.values)\n",
    "\n",
    "        # Make predictions\n",
    "        predictions = model.predict(scaled_input)\n",
    "\n",
    "        # Return prediction results\n",
    "        return predictions.tolist()\n",
    "    except Exception as e:\n",
    "        return f\"Error: {str(e)}\"\n",
    "threshold=0.5;\n",
    "# Example usage\n",
    "file_path = \"C:/Users/preri/DSQue/Downloads/archive/credit-sample1.csv\"  # Replace with the path to your uploaded CSV file\n",
    "predictions = process_uploaded_file(file_path)\n",
    "print(predictions)\n",
    "if predictions[0][0] >= threshold:\n",
    "    print(\"The transaction is fraudulent.\")\n",
    "else:\n",
    "    print(\"The transaction is not fraudulent.\")\n"
   ]
  }
 ],
 "metadata": {
  "kernelspec": {
   "display_name": "Python 3 (ipykernel)",
   "language": "python",
   "name": "python3"
  },
  "language_info": {
   "codemirror_mode": {
    "name": "ipython",
    "version": 3
   },
   "file_extension": ".py",
   "mimetype": "text/x-python",
   "name": "python",
   "nbconvert_exporter": "python",
   "pygments_lexer": "ipython3",
   "version": "3.11.5"
  }
 },
 "nbformat": 4,
 "nbformat_minor": 5
}
